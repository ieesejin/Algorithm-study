{
 "cells": [
  {
   "cell_type": "code",
   "execution_count": 1,
   "metadata": {},
   "outputs": [],
   "source": [
    "def solution(answers):\n",
    "    answer = []\n",
    "    give1 = [1, 2, 3, 4, 5]\n",
    "    give2 = [2, 1, 2, 3, 2, 4, 2, 5]\n",
    "    give3 = [3, 3, 1, 1, 2, 2, 4, 4, 5, 5]\n",
    "    \n",
    "    result1 = 0\n",
    "    result2 = 0\n",
    "    result3 = 0\n",
    "    \n",
    "    for i in range(len(answers)):\n",
    "        if answers[i] == give1[i%5]:\n",
    "            result1 += 1\n",
    "        if answers[i] == give2[i%8]:\n",
    "            result2 += 1\n",
    "        if answers[i] == give3[i%10]:\n",
    "            result3 += 1\n",
    "    \n",
    "    if result1 > result2 and result1 > result3:\n",
    "        answer.append(1)\n",
    "    if result2 > result1 and result2 > result3:\n",
    "        answer.append(2)\n",
    "    if result3 > result1 and result3 > result2:\n",
    "        answer.append(3)\n",
    "    if result1 == result2 and result1 > result3:\n",
    "        answer.append(1)\n",
    "        answer.append(2)\n",
    "    if result1 == result3 and result1 > result2:\n",
    "        answer.append(1)\n",
    "        answer.append(3)\n",
    "    if result2 == result3 and result2 > result1:\n",
    "        answer.append(2)\n",
    "        answer.append(3)\n",
    "    if result1 == result2 == result3:\n",
    "        answer.append(1)\n",
    "        answer.append(2)\n",
    "        answer.append(3)\n",
    "    \n",
    "    return answer"
   ]
  },
  {
   "cell_type": "code",
   "execution_count": 2,
   "metadata": {},
   "outputs": [
    {
     "data": {
      "text/plain": [
       "[1]"
      ]
     },
     "execution_count": 2,
     "metadata": {},
     "output_type": "execute_result"
    }
   ],
   "source": [
    "solution([1,2,3,4,5])"
   ]
  }
 ],
 "metadata": {
  "kernelspec": {
   "display_name": "Python 3",
   "language": "python",
   "name": "python3"
  },
  "language_info": {
   "codemirror_mode": {
    "name": "ipython",
    "version": 3
   },
   "file_extension": ".py",
   "mimetype": "text/x-python",
   "name": "python",
   "nbconvert_exporter": "python",
   "pygments_lexer": "ipython3",
   "version": "3.7.6"
  }
 },
 "nbformat": 4,
 "nbformat_minor": 4
}
