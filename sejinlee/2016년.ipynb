{
 "cells": [
  {
   "cell_type": "code",
   "execution_count": 1,
   "metadata": {},
   "outputs": [],
   "source": [
    "def solution(a, b):\n",
    "    answer = ''\n",
    "    count = 0\n",
    "    day = [\"FRI\", \"SAT\", \"SUN\", \"MON\", \"TUE\", \"WED\", \"THU\"]\n",
    "    \n",
    "    i = 1\n",
    "    while i < a:            \n",
    "        if i == 1 or i == 3 or i == 5 or i == 7 or i == 8 or i == 10 or i == 12:\n",
    "            count += 31\n",
    "        \n",
    "        if i < a and (i == 4 or i == 6 or i == 9 or i == 11):\n",
    "            count += 30\n",
    "        \n",
    "        if i < a and i == 2:\n",
    "            count += 29\n",
    "        \n",
    "        i += 1\n",
    "        \n",
    "        \n",
    "    count = count + b\n",
    "    \n",
    "    answer = day[count%7-1]\n",
    "        \n",
    "    return answer"
   ]
  },
  {
   "cell_type": "code",
   "execution_count": 2,
   "metadata": {},
   "outputs": [
    {
     "data": {
      "text/plain": [
       "'TUE'"
      ]
     },
     "execution_count": 2,
     "metadata": {},
     "output_type": "execute_result"
    }
   ],
   "source": [
    "solution(5, 24)"
   ]
  }
 ],
 "metadata": {
  "kernelspec": {
   "display_name": "Python 3",
   "language": "python",
   "name": "python3"
  },
  "language_info": {
   "codemirror_mode": {
    "name": "ipython",
    "version": 3
   },
   "file_extension": ".py",
   "mimetype": "text/x-python",
   "name": "python",
   "nbconvert_exporter": "python",
   "pygments_lexer": "ipython3",
   "version": "3.7.6"
  }
 },
 "nbformat": 4,
 "nbformat_minor": 4
}
