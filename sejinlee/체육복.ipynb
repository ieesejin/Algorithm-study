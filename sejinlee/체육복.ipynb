{
 "cells": [
  {
   "cell_type": "code",
   "execution_count": 1,
   "metadata": {},
   "outputs": [],
   "source": [
    "def solution(n, lost, reserve):\n",
    "    # for i in range(n):\n",
    "    #     if (i+1) in lost:\n",
    "    #         if (i or i+2) in reserve:\n",
    "    #             count += 1\n",
    "    \n",
    "    new_lost = list(set(lost)-set(reserve))\n",
    "    new_reserve = list(set(reserve)-set(lost))\n",
    "    count = n - len(new_lost)\n",
    "    \n",
    "    for i in new_lost:\n",
    "        if (i-1) in new_reserve:\n",
    "            count += 1\n",
    "            new_reserve.remove(i-1)\n",
    "            continue\n",
    "        \n",
    "        elif (i+1) in new_reserve:\n",
    "            count += 1\n",
    "            new_reserve.remove(i+1)\n",
    "            continue        \n",
    "    \n",
    "    return count"
   ]
  },
  {
   "cell_type": "code",
   "execution_count": 2,
   "metadata": {},
   "outputs": [
    {
     "data": {
      "text/plain": [
       "5"
      ]
     },
     "execution_count": 2,
     "metadata": {},
     "output_type": "execute_result"
    }
   ],
   "source": [
    "solution(5,[2,4],[1,3,5])"
   ]
  }
 ],
 "metadata": {
  "kernelspec": {
   "display_name": "Python 3",
   "language": "python",
   "name": "python3"
  },
  "language_info": {
   "codemirror_mode": {
    "name": "ipython",
    "version": 3
   },
   "file_extension": ".py",
   "mimetype": "text/x-python",
   "name": "python",
   "nbconvert_exporter": "python",
   "pygments_lexer": "ipython3",
   "version": "3.7.6"
  }
 },
 "nbformat": 4,
 "nbformat_minor": 4
}
