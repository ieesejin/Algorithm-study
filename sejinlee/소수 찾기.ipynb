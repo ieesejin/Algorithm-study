{
 "cells": [
  {
   "cell_type": "code",
   "execution_count": 1,
   "metadata": {},
   "outputs": [],
   "source": [
    "import math\n",
    "\n",
    "def solution(n):\n",
    "    answer = n-1\n",
    "    if n == 1:\n",
    "        return 0\n",
    "    \n",
    "    else:\n",
    "        for i in range(2, n+1):\n",
    "            if i % 2 == 0 and i > 2:\n",
    "                answer -= 1\n",
    "                continue\n",
    "            for j in range(2,int(math.sqrt(i))+1):\n",
    "                if i % j == 0:\n",
    "                    answer -= 1\n",
    "                    break\n",
    "    \n",
    "    return answer\n",
    "\n",
    "# def solution(n):\n",
    "#     num=set(range(2,n+1))\n",
    "\n",
    "#     for i in range(2,n+1):\n",
    "#         if i in num:\n",
    "#             num-=set(range(2*i,n+1,i))\n",
    "#     return len(num)"
   ]
  },
  {
   "cell_type": "code",
   "execution_count": 2,
   "metadata": {},
   "outputs": [
    {
     "data": {
      "text/plain": [
       "4"
      ]
     },
     "execution_count": 2,
     "metadata": {},
     "output_type": "execute_result"
    }
   ],
   "source": [
    "solution(10)"
   ]
  }
 ],
 "metadata": {
  "kernelspec": {
   "display_name": "Python 3",
   "language": "python",
   "name": "python3"
  },
  "language_info": {
   "codemirror_mode": {
    "name": "ipython",
    "version": 3
   },
   "file_extension": ".py",
   "mimetype": "text/x-python",
   "name": "python",
   "nbconvert_exporter": "python",
   "pygments_lexer": "ipython3",
   "version": "3.7.6"
  }
 },
 "nbformat": 4,
 "nbformat_minor": 4
}
